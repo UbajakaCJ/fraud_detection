{
 "cells": [
  {
   "cell_type": "code",
   "execution_count": 1,
   "metadata": {
    "colab": {
     "base_uri": "https://localhost:8080/"
    },
    "executionInfo": {
     "elapsed": 50011,
     "status": "ok",
     "timestamp": 1614074388298,
     "user": {
      "displayName": "Chijioke Ubajaka",
      "photoUrl": "https://lh3.googleusercontent.com/a-/AOh14Gj5pHBGlnn7WeCIFUtYlXYNPi5Bj5gqnnnNUBKSEA=s64",
      "userId": "05624813491044791252"
     },
     "user_tz": -60
    },
    "id": "OTcVoqQPUy34",
    "outputId": "57492b42-d24f-4bf2-bc5d-7b353edc6c8e"
   },
   "outputs": [
    {
     "name": "stdout",
     "output_type": "stream",
     "text": [
      "Mounted at /content/gdrive/\n"
     ]
    }
   ],
   "source": [
    "from google.colab import drive\n",
    "drive.mount('/content/gdrive/', force_remount=True)"
   ]
  },
  {
   "cell_type": "code",
   "execution_count": 4,
   "metadata": {
    "executionInfo": {
     "elapsed": 2308,
     "status": "ok",
     "timestamp": 1614074462811,
     "user": {
      "displayName": "Chijioke Ubajaka",
      "photoUrl": "https://lh3.googleusercontent.com/a-/AOh14Gj5pHBGlnn7WeCIFUtYlXYNPi5Bj5gqnnnNUBKSEA=s64",
      "userId": "05624813491044791252"
     },
     "user_tz": -60
    },
    "id": "CUb71nrBUCyH"
   },
   "outputs": [],
   "source": [
    "import os\n",
    "import pandas as pd\n",
    "import numpy as np\n",
    "import matplotlib.pyplot as plt\n",
    "%matplotlib inline"
   ]
  },
  {
   "cell_type": "code",
   "execution_count": 3,
   "metadata": {
    "executionInfo": {
     "elapsed": 1604,
     "status": "ok",
     "timestamp": 1614074438184,
     "user": {
      "displayName": "Chijioke Ubajaka",
      "photoUrl": "https://lh3.googleusercontent.com/a-/AOh14Gj5pHBGlnn7WeCIFUtYlXYNPi5Bj5gqnnnNUBKSEA=s64",
      "userId": "05624813491044791252"
     },
     "user_tz": -60
    },
    "id": "Y3WVRanIVSCm"
   },
   "outputs": [],
   "source": [
    "base_path = \"/content/gdrive/MyDrive/AI/kaggle/fraud_detection\""
   ]
  },
  {
   "cell_type": "code",
   "execution_count": 5,
   "metadata": {
    "colab": {
     "base_uri": "https://localhost:8080/"
    },
    "executionInfo": {
     "elapsed": 1969,
     "status": "ok",
     "timestamp": 1614074479961,
     "user": {
      "displayName": "Chijioke Ubajaka",
      "photoUrl": "https://lh3.googleusercontent.com/a-/AOh14Gj5pHBGlnn7WeCIFUtYlXYNPi5Bj5gqnnnNUBKSEA=s64",
      "userId": "05624813491044791252"
     },
     "user_tz": -60
    },
    "id": "WUL7d3o3VWOr",
    "outputId": "2f010f43-32d9-47d9-cdbc-f909fa6575b7"
   },
   "outputs": [
    {
     "name": "stdout",
     "output_type": "stream",
     "text": [
      "/content\n",
      "/content/gdrive/MyDrive/AI/kaggle/fraud_detection\n"
     ]
    }
   ],
   "source": [
    "!pwd\n",
    "os.chdir(base_path)\n",
    "!pwd"
   ]
  },
  {
   "cell_type": "code",
   "execution_count": 6,
   "metadata": {
    "executionInfo": {
     "elapsed": 6622,
     "status": "ok",
     "timestamp": 1614074495404,
     "user": {
      "displayName": "Chijioke Ubajaka",
      "photoUrl": "https://lh3.googleusercontent.com/a-/AOh14Gj5pHBGlnn7WeCIFUtYlXYNPi5Bj5gqnnnNUBKSEA=s64",
      "userId": "05624813491044791252"
     },
     "user_tz": -60
    },
    "id": "-xs4Ri9wUCzI"
   },
   "outputs": [],
   "source": [
    "train = pd.read_csv('train.csv')\n",
    "test = pd.read_csv('test.csv')"
   ]
  },
  {
   "cell_type": "code",
   "execution_count": 7,
   "metadata": {
    "colab": {
     "base_uri": "https://localhost:8080/",
     "height": 253
    },
    "executionInfo": {
     "elapsed": 1285,
     "status": "ok",
     "timestamp": 1614074498829,
     "user": {
      "displayName": "Chijioke Ubajaka",
      "photoUrl": "https://lh3.googleusercontent.com/a-/AOh14Gj5pHBGlnn7WeCIFUtYlXYNPi5Bj5gqnnnNUBKSEA=s64",
      "userId": "05624813491044791252"
     },
     "user_tz": -60
    },
    "id": "sheVHNU4UCzM",
    "outputId": "08cd305d-49c2-4b12-fa7f-1545215b987a"
   },
   "outputs": [
    {
     "data": {
      "text/html": [
       "<div>\n",
       "<style scoped>\n",
       "    .dataframe tbody tr th:only-of-type {\n",
       "        vertical-align: middle;\n",
       "    }\n",
       "\n",
       "    .dataframe tbody tr th {\n",
       "        vertical-align: top;\n",
       "    }\n",
       "\n",
       "    .dataframe thead th {\n",
       "        text-align: right;\n",
       "    }\n",
       "</style>\n",
       "<table border=\"1\" class=\"dataframe\">\n",
       "  <thead>\n",
       "    <tr style=\"text-align: right;\">\n",
       "      <th></th>\n",
       "      <th>Time</th>\n",
       "      <th>V1</th>\n",
       "      <th>V2</th>\n",
       "      <th>V3</th>\n",
       "      <th>V4</th>\n",
       "      <th>V5</th>\n",
       "      <th>V6</th>\n",
       "      <th>V7</th>\n",
       "      <th>V8</th>\n",
       "      <th>V9</th>\n",
       "      <th>...</th>\n",
       "      <th>V21</th>\n",
       "      <th>V22</th>\n",
       "      <th>V23</th>\n",
       "      <th>V24</th>\n",
       "      <th>V25</th>\n",
       "      <th>V26</th>\n",
       "      <th>V27</th>\n",
       "      <th>V28</th>\n",
       "      <th>Amount</th>\n",
       "      <th>Class</th>\n",
       "    </tr>\n",
       "  </thead>\n",
       "  <tbody>\n",
       "    <tr>\n",
       "      <th>0</th>\n",
       "      <td>0.0</td>\n",
       "      <td>-1.359807</td>\n",
       "      <td>-0.072781</td>\n",
       "      <td>2.536347</td>\n",
       "      <td>1.378155</td>\n",
       "      <td>-0.338321</td>\n",
       "      <td>0.462388</td>\n",
       "      <td>0.239599</td>\n",
       "      <td>0.098698</td>\n",
       "      <td>0.363787</td>\n",
       "      <td>...</td>\n",
       "      <td>-0.018307</td>\n",
       "      <td>0.277838</td>\n",
       "      <td>-0.110474</td>\n",
       "      <td>0.066928</td>\n",
       "      <td>0.128539</td>\n",
       "      <td>-0.189115</td>\n",
       "      <td>0.133558</td>\n",
       "      <td>-0.021053</td>\n",
       "      <td>149.62</td>\n",
       "      <td>0.0</td>\n",
       "    </tr>\n",
       "    <tr>\n",
       "      <th>1</th>\n",
       "      <td>0.0</td>\n",
       "      <td>1.191857</td>\n",
       "      <td>0.266151</td>\n",
       "      <td>0.166480</td>\n",
       "      <td>0.448154</td>\n",
       "      <td>0.060018</td>\n",
       "      <td>-0.082361</td>\n",
       "      <td>-0.078803</td>\n",
       "      <td>0.085102</td>\n",
       "      <td>-0.255425</td>\n",
       "      <td>...</td>\n",
       "      <td>-0.225775</td>\n",
       "      <td>-0.638672</td>\n",
       "      <td>0.101288</td>\n",
       "      <td>-0.339846</td>\n",
       "      <td>0.167170</td>\n",
       "      <td>0.125895</td>\n",
       "      <td>-0.008983</td>\n",
       "      <td>0.014724</td>\n",
       "      <td>2.69</td>\n",
       "      <td>0.0</td>\n",
       "    </tr>\n",
       "    <tr>\n",
       "      <th>2</th>\n",
       "      <td>1.0</td>\n",
       "      <td>-1.358354</td>\n",
       "      <td>-1.340163</td>\n",
       "      <td>1.773209</td>\n",
       "      <td>0.379780</td>\n",
       "      <td>-0.503198</td>\n",
       "      <td>1.800499</td>\n",
       "      <td>0.791461</td>\n",
       "      <td>0.247676</td>\n",
       "      <td>-1.514654</td>\n",
       "      <td>...</td>\n",
       "      <td>0.247998</td>\n",
       "      <td>0.771679</td>\n",
       "      <td>0.909412</td>\n",
       "      <td>-0.689281</td>\n",
       "      <td>-0.327642</td>\n",
       "      <td>-0.139097</td>\n",
       "      <td>-0.055353</td>\n",
       "      <td>-0.059752</td>\n",
       "      <td>378.66</td>\n",
       "      <td>0.0</td>\n",
       "    </tr>\n",
       "    <tr>\n",
       "      <th>3</th>\n",
       "      <td>1.0</td>\n",
       "      <td>-0.966272</td>\n",
       "      <td>-0.185226</td>\n",
       "      <td>1.792993</td>\n",
       "      <td>-0.863291</td>\n",
       "      <td>-0.010309</td>\n",
       "      <td>1.247203</td>\n",
       "      <td>0.237609</td>\n",
       "      <td>0.377436</td>\n",
       "      <td>-1.387024</td>\n",
       "      <td>...</td>\n",
       "      <td>-0.108300</td>\n",
       "      <td>0.005274</td>\n",
       "      <td>-0.190321</td>\n",
       "      <td>-1.175575</td>\n",
       "      <td>0.647376</td>\n",
       "      <td>-0.221929</td>\n",
       "      <td>0.062723</td>\n",
       "      <td>0.061458</td>\n",
       "      <td>123.50</td>\n",
       "      <td>0.0</td>\n",
       "    </tr>\n",
       "    <tr>\n",
       "      <th>4</th>\n",
       "      <td>2.0</td>\n",
       "      <td>-1.158233</td>\n",
       "      <td>0.877737</td>\n",
       "      <td>1.548718</td>\n",
       "      <td>0.403034</td>\n",
       "      <td>-0.407193</td>\n",
       "      <td>0.095921</td>\n",
       "      <td>0.592941</td>\n",
       "      <td>-0.270533</td>\n",
       "      <td>0.817739</td>\n",
       "      <td>...</td>\n",
       "      <td>-0.009431</td>\n",
       "      <td>0.798278</td>\n",
       "      <td>-0.137458</td>\n",
       "      <td>0.141267</td>\n",
       "      <td>-0.206010</td>\n",
       "      <td>0.502292</td>\n",
       "      <td>0.219422</td>\n",
       "      <td>0.215153</td>\n",
       "      <td>69.99</td>\n",
       "      <td>0.0</td>\n",
       "    </tr>\n",
       "  </tbody>\n",
       "</table>\n",
       "<p>5 rows × 31 columns</p>\n",
       "</div>"
      ],
      "text/plain": [
       "   Time        V1        V2        V3        V4        V5        V6        V7  \\\n",
       "0   0.0 -1.359807 -0.072781  2.536347  1.378155 -0.338321  0.462388  0.239599   \n",
       "1   0.0  1.191857  0.266151  0.166480  0.448154  0.060018 -0.082361 -0.078803   \n",
       "2   1.0 -1.358354 -1.340163  1.773209  0.379780 -0.503198  1.800499  0.791461   \n",
       "3   1.0 -0.966272 -0.185226  1.792993 -0.863291 -0.010309  1.247203  0.237609   \n",
       "4   2.0 -1.158233  0.877737  1.548718  0.403034 -0.407193  0.095921  0.592941   \n",
       "\n",
       "         V8        V9  ...       V21       V22       V23       V24       V25  \\\n",
       "0  0.098698  0.363787  ... -0.018307  0.277838 -0.110474  0.066928  0.128539   \n",
       "1  0.085102 -0.255425  ... -0.225775 -0.638672  0.101288 -0.339846  0.167170   \n",
       "2  0.247676 -1.514654  ...  0.247998  0.771679  0.909412 -0.689281 -0.327642   \n",
       "3  0.377436 -1.387024  ... -0.108300  0.005274 -0.190321 -1.175575  0.647376   \n",
       "4 -0.270533  0.817739  ... -0.009431  0.798278 -0.137458  0.141267 -0.206010   \n",
       "\n",
       "        V26       V27       V28  Amount  Class  \n",
       "0 -0.189115  0.133558 -0.021053  149.62    0.0  \n",
       "1  0.125895 -0.008983  0.014724    2.69    0.0  \n",
       "2 -0.139097 -0.055353 -0.059752  378.66    0.0  \n",
       "3 -0.221929  0.062723  0.061458  123.50    0.0  \n",
       "4  0.502292  0.219422  0.215153   69.99    0.0  \n",
       "\n",
       "[5 rows x 31 columns]"
      ]
     },
     "execution_count": 7,
     "metadata": {
      "tags": []
     },
     "output_type": "execute_result"
    }
   ],
   "source": [
    "train.head()"
   ]
  },
  {
   "cell_type": "code",
   "execution_count": 8,
   "metadata": {
    "colab": {
     "base_uri": "https://localhost:8080/",
     "height": 253
    },
    "executionInfo": {
     "elapsed": 1044,
     "status": "ok",
     "timestamp": 1614074504455,
     "user": {
      "displayName": "Chijioke Ubajaka",
      "photoUrl": "https://lh3.googleusercontent.com/a-/AOh14Gj5pHBGlnn7WeCIFUtYlXYNPi5Bj5gqnnnNUBKSEA=s64",
      "userId": "05624813491044791252"
     },
     "user_tz": -60
    },
    "id": "yrPdPOv8UCzZ",
    "outputId": "ecf86580-524d-47dc-fb46-fb37eb251458"
   },
   "outputs": [
    {
     "data": {
      "text/html": [
       "<div>\n",
       "<style scoped>\n",
       "    .dataframe tbody tr th:only-of-type {\n",
       "        vertical-align: middle;\n",
       "    }\n",
       "\n",
       "    .dataframe tbody tr th {\n",
       "        vertical-align: top;\n",
       "    }\n",
       "\n",
       "    .dataframe thead th {\n",
       "        text-align: right;\n",
       "    }\n",
       "</style>\n",
       "<table border=\"1\" class=\"dataframe\">\n",
       "  <thead>\n",
       "    <tr style=\"text-align: right;\">\n",
       "      <th></th>\n",
       "      <th>id</th>\n",
       "      <th>Time</th>\n",
       "      <th>V1</th>\n",
       "      <th>V2</th>\n",
       "      <th>V3</th>\n",
       "      <th>V4</th>\n",
       "      <th>V5</th>\n",
       "      <th>V6</th>\n",
       "      <th>V7</th>\n",
       "      <th>V8</th>\n",
       "      <th>...</th>\n",
       "      <th>V20</th>\n",
       "      <th>V21</th>\n",
       "      <th>V22</th>\n",
       "      <th>V23</th>\n",
       "      <th>V24</th>\n",
       "      <th>V25</th>\n",
       "      <th>V26</th>\n",
       "      <th>V27</th>\n",
       "      <th>V28</th>\n",
       "      <th>Amount</th>\n",
       "    </tr>\n",
       "  </thead>\n",
       "  <tbody>\n",
       "    <tr>\n",
       "      <th>0</th>\n",
       "      <td>0</td>\n",
       "      <td>120396.0</td>\n",
       "      <td>0.140378</td>\n",
       "      <td>0.989574</td>\n",
       "      <td>-0.506447</td>\n",
       "      <td>0.480553</td>\n",
       "      <td>1.407763</td>\n",
       "      <td>0.371637</td>\n",
       "      <td>0.811775</td>\n",
       "      <td>0.067702</td>\n",
       "      <td>...</td>\n",
       "      <td>0.120841</td>\n",
       "      <td>0.385872</td>\n",
       "      <td>1.302941</td>\n",
       "      <td>-0.177157</td>\n",
       "      <td>-0.192410</td>\n",
       "      <td>-0.724567</td>\n",
       "      <td>-0.433276</td>\n",
       "      <td>0.540947</td>\n",
       "      <td>0.323866</td>\n",
       "      <td>8.69</td>\n",
       "    </tr>\n",
       "    <tr>\n",
       "      <th>1</th>\n",
       "      <td>1</td>\n",
       "      <td>120396.0</td>\n",
       "      <td>-1.303150</td>\n",
       "      <td>0.187865</td>\n",
       "      <td>0.944395</td>\n",
       "      <td>-1.277834</td>\n",
       "      <td>1.236744</td>\n",
       "      <td>-1.301696</td>\n",
       "      <td>1.402234</td>\n",
       "      <td>-0.558914</td>\n",
       "      <td>...</td>\n",
       "      <td>-0.251346</td>\n",
       "      <td>-0.274175</td>\n",
       "      <td>-0.656826</td>\n",
       "      <td>-0.164985</td>\n",
       "      <td>0.001284</td>\n",
       "      <td>-0.001842</td>\n",
       "      <td>-0.024050</td>\n",
       "      <td>-0.436872</td>\n",
       "      <td>0.051705</td>\n",
       "      <td>59.99</td>\n",
       "    </tr>\n",
       "    <tr>\n",
       "      <th>2</th>\n",
       "      <td>2</td>\n",
       "      <td>120396.0</td>\n",
       "      <td>1.947883</td>\n",
       "      <td>-1.095332</td>\n",
       "      <td>-1.392121</td>\n",
       "      <td>-0.600598</td>\n",
       "      <td>-0.320840</td>\n",
       "      <td>0.048953</td>\n",
       "      <td>-0.443486</td>\n",
       "      <td>-0.081011</td>\n",
       "      <td>...</td>\n",
       "      <td>-0.293448</td>\n",
       "      <td>-0.250594</td>\n",
       "      <td>-0.385151</td>\n",
       "      <td>0.099030</td>\n",
       "      <td>0.221922</td>\n",
       "      <td>-0.212846</td>\n",
       "      <td>0.586637</td>\n",
       "      <td>-0.071616</td>\n",
       "      <td>-0.045475</td>\n",
       "      <td>119.97</td>\n",
       "    </tr>\n",
       "    <tr>\n",
       "      <th>3</th>\n",
       "      <td>3</td>\n",
       "      <td>120397.0</td>\n",
       "      <td>2.208529</td>\n",
       "      <td>-0.710646</td>\n",
       "      <td>-2.773526</td>\n",
       "      <td>-0.956707</td>\n",
       "      <td>0.359353</td>\n",
       "      <td>-1.365306</td>\n",
       "      <td>0.447270</td>\n",
       "      <td>-0.559306</td>\n",
       "      <td>...</td>\n",
       "      <td>0.016283</td>\n",
       "      <td>0.475859</td>\n",
       "      <td>1.232516</td>\n",
       "      <td>-0.272050</td>\n",
       "      <td>0.547241</td>\n",
       "      <td>0.762837</td>\n",
       "      <td>0.280295</td>\n",
       "      <td>-0.120039</td>\n",
       "      <td>-0.080764</td>\n",
       "      <td>73.80</td>\n",
       "    </tr>\n",
       "    <tr>\n",
       "      <th>4</th>\n",
       "      <td>4</td>\n",
       "      <td>120398.0</td>\n",
       "      <td>1.978006</td>\n",
       "      <td>-0.623106</td>\n",
       "      <td>-0.408601</td>\n",
       "      <td>0.228440</td>\n",
       "      <td>-0.525165</td>\n",
       "      <td>0.323324</td>\n",
       "      <td>-0.934529</td>\n",
       "      <td>0.218513</td>\n",
       "      <td>...</td>\n",
       "      <td>-0.180830</td>\n",
       "      <td>0.016574</td>\n",
       "      <td>0.108174</td>\n",
       "      <td>0.206531</td>\n",
       "      <td>-0.008353</td>\n",
       "      <td>-0.312596</td>\n",
       "      <td>-0.402981</td>\n",
       "      <td>0.040917</td>\n",
       "      <td>-0.024663</td>\n",
       "      <td>30.24</td>\n",
       "    </tr>\n",
       "  </tbody>\n",
       "</table>\n",
       "<p>5 rows × 31 columns</p>\n",
       "</div>"
      ],
      "text/plain": [
       "   id      Time        V1        V2        V3        V4        V5        V6  \\\n",
       "0   0  120396.0  0.140378  0.989574 -0.506447  0.480553  1.407763  0.371637   \n",
       "1   1  120396.0 -1.303150  0.187865  0.944395 -1.277834  1.236744 -1.301696   \n",
       "2   2  120396.0  1.947883 -1.095332 -1.392121 -0.600598 -0.320840  0.048953   \n",
       "3   3  120397.0  2.208529 -0.710646 -2.773526 -0.956707  0.359353 -1.365306   \n",
       "4   4  120398.0  1.978006 -0.623106 -0.408601  0.228440 -0.525165  0.323324   \n",
       "\n",
       "         V7        V8  ...       V20       V21       V22       V23       V24  \\\n",
       "0  0.811775  0.067702  ...  0.120841  0.385872  1.302941 -0.177157 -0.192410   \n",
       "1  1.402234 -0.558914  ... -0.251346 -0.274175 -0.656826 -0.164985  0.001284   \n",
       "2 -0.443486 -0.081011  ... -0.293448 -0.250594 -0.385151  0.099030  0.221922   \n",
       "3  0.447270 -0.559306  ...  0.016283  0.475859  1.232516 -0.272050  0.547241   \n",
       "4 -0.934529  0.218513  ... -0.180830  0.016574  0.108174  0.206531 -0.008353   \n",
       "\n",
       "        V25       V26       V27       V28  Amount  \n",
       "0 -0.724567 -0.433276  0.540947  0.323866    8.69  \n",
       "1 -0.001842 -0.024050 -0.436872  0.051705   59.99  \n",
       "2 -0.212846  0.586637 -0.071616 -0.045475  119.97  \n",
       "3  0.762837  0.280295 -0.120039 -0.080764   73.80  \n",
       "4 -0.312596 -0.402981  0.040917 -0.024663   30.24  \n",
       "\n",
       "[5 rows x 31 columns]"
      ]
     },
     "execution_count": 8,
     "metadata": {
      "tags": []
     },
     "output_type": "execute_result"
    }
   ],
   "source": [
    "test.head()"
   ]
  },
  {
   "cell_type": "code",
   "execution_count": 9,
   "metadata": {
    "colab": {
     "base_uri": "https://localhost:8080/",
     "height": 346
    },
    "executionInfo": {
     "elapsed": 1137,
     "status": "ok",
     "timestamp": 1614074509675,
     "user": {
      "displayName": "Chijioke Ubajaka",
      "photoUrl": "https://lh3.googleusercontent.com/a-/AOh14Gj5pHBGlnn7WeCIFUtYlXYNPi5Bj5gqnnnNUBKSEA=s64",
      "userId": "05624813491044791252"
     },
     "user_tz": -60
    },
    "id": "F-lx-rQBUCzc",
    "outputId": "f26f9e22-6a01-4039-9c3c-024e0fb74f18"
   },
   "outputs": [
    {
     "data": {
      "text/html": [
       "<div>\n",
       "<style scoped>\n",
       "    .dataframe tbody tr th:only-of-type {\n",
       "        vertical-align: middle;\n",
       "    }\n",
       "\n",
       "    .dataframe tbody tr th {\n",
       "        vertical-align: top;\n",
       "    }\n",
       "\n",
       "    .dataframe thead th {\n",
       "        text-align: right;\n",
       "    }\n",
       "</style>\n",
       "<table border=\"1\" class=\"dataframe\">\n",
       "  <thead>\n",
       "    <tr style=\"text-align: right;\">\n",
       "      <th></th>\n",
       "      <th>id</th>\n",
       "      <th>Time</th>\n",
       "      <th>V1</th>\n",
       "      <th>V2</th>\n",
       "      <th>V3</th>\n",
       "      <th>V4</th>\n",
       "      <th>V5</th>\n",
       "      <th>V6</th>\n",
       "      <th>V7</th>\n",
       "      <th>V8</th>\n",
       "      <th>...</th>\n",
       "      <th>V20</th>\n",
       "      <th>V21</th>\n",
       "      <th>V22</th>\n",
       "      <th>V23</th>\n",
       "      <th>V24</th>\n",
       "      <th>V25</th>\n",
       "      <th>V26</th>\n",
       "      <th>V27</th>\n",
       "      <th>V28</th>\n",
       "      <th>Amount</th>\n",
       "    </tr>\n",
       "  </thead>\n",
       "  <tbody>\n",
       "    <tr>\n",
       "      <th>count</th>\n",
       "      <td>113922.000000</td>\n",
       "      <td>113922.000000</td>\n",
       "      <td>113922.000000</td>\n",
       "      <td>113922.000000</td>\n",
       "      <td>113922.000000</td>\n",
       "      <td>113922.000000</td>\n",
       "      <td>113922.000000</td>\n",
       "      <td>113922.000000</td>\n",
       "      <td>113922.000000</td>\n",
       "      <td>113922.000000</td>\n",
       "      <td>...</td>\n",
       "      <td>113922.000000</td>\n",
       "      <td>113922.000000</td>\n",
       "      <td>113922.000000</td>\n",
       "      <td>113922.000000</td>\n",
       "      <td>113922.000000</td>\n",
       "      <td>113922.000000</td>\n",
       "      <td>113922.000000</td>\n",
       "      <td>113922.000000</td>\n",
       "      <td>113922.000000</td>\n",
       "      <td>113922.000000</td>\n",
       "    </tr>\n",
       "    <tr>\n",
       "      <th>mean</th>\n",
       "      <td>56960.500000</td>\n",
       "      <td>145396.849186</td>\n",
       "      <td>0.254790</td>\n",
       "      <td>-0.061147</td>\n",
       "      <td>-0.739574</td>\n",
       "      <td>-0.176145</td>\n",
       "      <td>0.264154</td>\n",
       "      <td>-0.087355</td>\n",
       "      <td>0.121014</td>\n",
       "      <td>-0.048323</td>\n",
       "      <td>...</td>\n",
       "      <td>-0.046415</td>\n",
       "      <td>0.042414</td>\n",
       "      <td>0.125620</td>\n",
       "      <td>0.033691</td>\n",
       "      <td>-0.013508</td>\n",
       "      <td>-0.138416</td>\n",
       "      <td>-0.018915</td>\n",
       "      <td>-0.003145</td>\n",
       "      <td>-0.003661</td>\n",
       "      <td>89.869007</td>\n",
       "    </tr>\n",
       "    <tr>\n",
       "      <th>std</th>\n",
       "      <td>32886.593021</td>\n",
       "      <td>14553.113542</td>\n",
       "      <td>2.084798</td>\n",
       "      <td>1.708363</td>\n",
       "      <td>1.402110</td>\n",
       "      <td>1.461795</td>\n",
       "      <td>1.399507</td>\n",
       "      <td>1.381521</td>\n",
       "      <td>1.269185</td>\n",
       "      <td>1.140921</td>\n",
       "      <td>...</td>\n",
       "      <td>0.831851</td>\n",
       "      <td>0.718423</td>\n",
       "      <td>0.788891</td>\n",
       "      <td>0.678606</td>\n",
       "      <td>0.615592</td>\n",
       "      <td>0.567761</td>\n",
       "      <td>0.468648</td>\n",
       "      <td>0.420530</td>\n",
       "      <td>0.361525</td>\n",
       "      <td>256.237361</td>\n",
       "    </tr>\n",
       "    <tr>\n",
       "      <th>min</th>\n",
       "      <td>0.000000</td>\n",
       "      <td>120396.000000</td>\n",
       "      <td>-46.855047</td>\n",
       "      <td>-50.383269</td>\n",
       "      <td>-48.325589</td>\n",
       "      <td>-5.683171</td>\n",
       "      <td>-113.743307</td>\n",
       "      <td>-20.869626</td>\n",
       "      <td>-23.386192</td>\n",
       "      <td>-39.688571</td>\n",
       "      <td>...</td>\n",
       "      <td>-54.497720</td>\n",
       "      <td>-21.620120</td>\n",
       "      <td>-7.417140</td>\n",
       "      <td>-36.666000</td>\n",
       "      <td>-2.790479</td>\n",
       "      <td>-8.696627</td>\n",
       "      <td>-1.855355</td>\n",
       "      <td>-9.895244</td>\n",
       "      <td>-15.430084</td>\n",
       "      <td>0.000000</td>\n",
       "    </tr>\n",
       "    <tr>\n",
       "      <th>25%</th>\n",
       "      <td>28480.250000</td>\n",
       "      <td>132929.000000</td>\n",
       "      <td>-0.803474</td>\n",
       "      <td>-0.691492</td>\n",
       "      <td>-1.598875</td>\n",
       "      <td>-0.978321</td>\n",
       "      <td>-0.437266</td>\n",
       "      <td>-0.880160</td>\n",
       "      <td>-0.491670</td>\n",
       "      <td>-0.273016</td>\n",
       "      <td>...</td>\n",
       "      <td>-0.247525</td>\n",
       "      <td>-0.223898</td>\n",
       "      <td>-0.534498</td>\n",
       "      <td>-0.142556</td>\n",
       "      <td>-0.382477</td>\n",
       "      <td>-0.450982</td>\n",
       "      <td>-0.313889</td>\n",
       "      <td>-0.075609</td>\n",
       "      <td>-0.062309</td>\n",
       "      <td>5.950000</td>\n",
       "    </tr>\n",
       "    <tr>\n",
       "      <th>50%</th>\n",
       "      <td>56960.500000</td>\n",
       "      <td>145248.500000</td>\n",
       "      <td>0.117918</td>\n",
       "      <td>-0.005869</td>\n",
       "      <td>-0.734515</td>\n",
       "      <td>-0.337116</td>\n",
       "      <td>0.250455</td>\n",
       "      <td>-0.389824</td>\n",
       "      <td>0.153539</td>\n",
       "      <td>-0.035898</td>\n",
       "      <td>...</td>\n",
       "      <td>-0.104915</td>\n",
       "      <td>0.036140</td>\n",
       "      <td>0.186984</td>\n",
       "      <td>0.040797</td>\n",
       "      <td>0.016353</td>\n",
       "      <td>-0.193161</td>\n",
       "      <td>-0.041568</td>\n",
       "      <td>-0.009557</td>\n",
       "      <td>-0.028504</td>\n",
       "      <td>22.450000</td>\n",
       "    </tr>\n",
       "    <tr>\n",
       "      <th>75%</th>\n",
       "      <td>85440.750000</td>\n",
       "      <td>157640.750000</td>\n",
       "      <td>1.978708</td>\n",
       "      <td>0.803288</td>\n",
       "      <td>0.121452</td>\n",
       "      <td>0.431538</td>\n",
       "      <td>0.882898</td>\n",
       "      <td>0.309488</td>\n",
       "      <td>0.746786</td>\n",
       "      <td>0.285892</td>\n",
       "      <td>...</td>\n",
       "      <td>0.091963</td>\n",
       "      <td>0.253761</td>\n",
       "      <td>0.750595</td>\n",
       "      <td>0.227964</td>\n",
       "      <td>0.524469</td>\n",
       "      <td>0.221846</td>\n",
       "      <td>0.214747</td>\n",
       "      <td>0.093809</td>\n",
       "      <td>0.078240</td>\n",
       "      <td>78.000000</td>\n",
       "    </tr>\n",
       "    <tr>\n",
       "      <th>max</th>\n",
       "      <td>113921.000000</td>\n",
       "      <td>172792.000000</td>\n",
       "      <td>2.454930</td>\n",
       "      <td>12.730564</td>\n",
       "      <td>3.937048</td>\n",
       "      <td>15.304184</td>\n",
       "      <td>29.162172</td>\n",
       "      <td>73.301626</td>\n",
       "      <td>120.589494</td>\n",
       "      <td>12.766112</td>\n",
       "      <td>...</td>\n",
       "      <td>23.643417</td>\n",
       "      <td>20.063786</td>\n",
       "      <td>8.272233</td>\n",
       "      <td>22.528412</td>\n",
       "      <td>4.584549</td>\n",
       "      <td>6.070850</td>\n",
       "      <td>3.415636</td>\n",
       "      <td>31.612198</td>\n",
       "      <td>16.129609</td>\n",
       "      <td>25691.160000</td>\n",
       "    </tr>\n",
       "  </tbody>\n",
       "</table>\n",
       "<p>8 rows × 31 columns</p>\n",
       "</div>"
      ],
      "text/plain": [
       "                  id           Time             V1             V2  \\\n",
       "count  113922.000000  113922.000000  113922.000000  113922.000000   \n",
       "mean    56960.500000  145396.849186       0.254790      -0.061147   \n",
       "std     32886.593021   14553.113542       2.084798       1.708363   \n",
       "min         0.000000  120396.000000     -46.855047     -50.383269   \n",
       "25%     28480.250000  132929.000000      -0.803474      -0.691492   \n",
       "50%     56960.500000  145248.500000       0.117918      -0.005869   \n",
       "75%     85440.750000  157640.750000       1.978708       0.803288   \n",
       "max    113921.000000  172792.000000       2.454930      12.730564   \n",
       "\n",
       "                  V3             V4             V5             V6  \\\n",
       "count  113922.000000  113922.000000  113922.000000  113922.000000   \n",
       "mean       -0.739574      -0.176145       0.264154      -0.087355   \n",
       "std         1.402110       1.461795       1.399507       1.381521   \n",
       "min       -48.325589      -5.683171    -113.743307     -20.869626   \n",
       "25%        -1.598875      -0.978321      -0.437266      -0.880160   \n",
       "50%        -0.734515      -0.337116       0.250455      -0.389824   \n",
       "75%         0.121452       0.431538       0.882898       0.309488   \n",
       "max         3.937048      15.304184      29.162172      73.301626   \n",
       "\n",
       "                  V7             V8  ...            V20            V21  \\\n",
       "count  113922.000000  113922.000000  ...  113922.000000  113922.000000   \n",
       "mean        0.121014      -0.048323  ...      -0.046415       0.042414   \n",
       "std         1.269185       1.140921  ...       0.831851       0.718423   \n",
       "min       -23.386192     -39.688571  ...     -54.497720     -21.620120   \n",
       "25%        -0.491670      -0.273016  ...      -0.247525      -0.223898   \n",
       "50%         0.153539      -0.035898  ...      -0.104915       0.036140   \n",
       "75%         0.746786       0.285892  ...       0.091963       0.253761   \n",
       "max       120.589494      12.766112  ...      23.643417      20.063786   \n",
       "\n",
       "                 V22            V23            V24            V25  \\\n",
       "count  113922.000000  113922.000000  113922.000000  113922.000000   \n",
       "mean        0.125620       0.033691      -0.013508      -0.138416   \n",
       "std         0.788891       0.678606       0.615592       0.567761   \n",
       "min        -7.417140     -36.666000      -2.790479      -8.696627   \n",
       "25%        -0.534498      -0.142556      -0.382477      -0.450982   \n",
       "50%         0.186984       0.040797       0.016353      -0.193161   \n",
       "75%         0.750595       0.227964       0.524469       0.221846   \n",
       "max         8.272233      22.528412       4.584549       6.070850   \n",
       "\n",
       "                 V26            V27            V28         Amount  \n",
       "count  113922.000000  113922.000000  113922.000000  113922.000000  \n",
       "mean       -0.018915      -0.003145      -0.003661      89.869007  \n",
       "std         0.468648       0.420530       0.361525     256.237361  \n",
       "min        -1.855355      -9.895244     -15.430084       0.000000  \n",
       "25%        -0.313889      -0.075609      -0.062309       5.950000  \n",
       "50%        -0.041568      -0.009557      -0.028504      22.450000  \n",
       "75%         0.214747       0.093809       0.078240      78.000000  \n",
       "max         3.415636      31.612198      16.129609   25691.160000  \n",
       "\n",
       "[8 rows x 31 columns]"
      ]
     },
     "execution_count": 9,
     "metadata": {
      "tags": []
     },
     "output_type": "execute_result"
    }
   ],
   "source": [
    "test.describe()"
   ]
  },
  {
   "cell_type": "code",
   "execution_count": 10,
   "metadata": {
    "colab": {
     "base_uri": "https://localhost:8080/",
     "height": 346
    },
    "executionInfo": {
     "elapsed": 1011,
     "status": "ok",
     "timestamp": 1614074512961,
     "user": {
      "displayName": "Chijioke Ubajaka",
      "photoUrl": "https://lh3.googleusercontent.com/a-/AOh14Gj5pHBGlnn7WeCIFUtYlXYNPi5Bj5gqnnnNUBKSEA=s64",
      "userId": "05624813491044791252"
     },
     "user_tz": -60
    },
    "id": "1kAXAuJIUCzf",
    "outputId": "83cb19cd-18e2-47bb-c3b9-aebf1fe1aa31"
   },
   "outputs": [
    {
     "data": {
      "text/html": [
       "<div>\n",
       "<style scoped>\n",
       "    .dataframe tbody tr th:only-of-type {\n",
       "        vertical-align: middle;\n",
       "    }\n",
       "\n",
       "    .dataframe tbody tr th {\n",
       "        vertical-align: top;\n",
       "    }\n",
       "\n",
       "    .dataframe thead th {\n",
       "        text-align: right;\n",
       "    }\n",
       "</style>\n",
       "<table border=\"1\" class=\"dataframe\">\n",
       "  <thead>\n",
       "    <tr style=\"text-align: right;\">\n",
       "      <th></th>\n",
       "      <th>Time</th>\n",
       "      <th>V1</th>\n",
       "      <th>V2</th>\n",
       "      <th>V3</th>\n",
       "      <th>V4</th>\n",
       "      <th>V5</th>\n",
       "      <th>V6</th>\n",
       "      <th>V7</th>\n",
       "      <th>V8</th>\n",
       "      <th>V9</th>\n",
       "      <th>...</th>\n",
       "      <th>V21</th>\n",
       "      <th>V22</th>\n",
       "      <th>V23</th>\n",
       "      <th>V24</th>\n",
       "      <th>V25</th>\n",
       "      <th>V26</th>\n",
       "      <th>V27</th>\n",
       "      <th>V28</th>\n",
       "      <th>Amount</th>\n",
       "      <th>Class</th>\n",
       "    </tr>\n",
       "  </thead>\n",
       "  <tbody>\n",
       "    <tr>\n",
       "      <th>count</th>\n",
       "      <td>170886.000000</td>\n",
       "      <td>170886.000000</td>\n",
       "      <td>170886.000000</td>\n",
       "      <td>170886.000000</td>\n",
       "      <td>170886.000000</td>\n",
       "      <td>170886.000000</td>\n",
       "      <td>170886.000000</td>\n",
       "      <td>170886.000000</td>\n",
       "      <td>170886.000000</td>\n",
       "      <td>170886.000000</td>\n",
       "      <td>...</td>\n",
       "      <td>170886.000000</td>\n",
       "      <td>170886.000000</td>\n",
       "      <td>170886.000000</td>\n",
       "      <td>170886.000000</td>\n",
       "      <td>170886.000000</td>\n",
       "      <td>170886.000000</td>\n",
       "      <td>170886.000000</td>\n",
       "      <td>170886.000000</td>\n",
       "      <td>170886.000000</td>\n",
       "      <td>170886.000000</td>\n",
       "    </tr>\n",
       "    <tr>\n",
       "      <th>mean</th>\n",
       "      <td>61092.608212</td>\n",
       "      <td>-0.169856</td>\n",
       "      <td>0.040770</td>\n",
       "      <td>0.493038</td>\n",
       "      <td>0.117430</td>\n",
       "      <td>-0.176091</td>\n",
       "      <td>0.058238</td>\n",
       "      <td>-0.080670</td>\n",
       "      <td>0.032215</td>\n",
       "      <td>0.018873</td>\n",
       "      <td>...</td>\n",
       "      <td>-0.028273</td>\n",
       "      <td>-0.083738</td>\n",
       "      <td>-0.022461</td>\n",
       "      <td>0.009004</td>\n",
       "      <td>0.092271</td>\n",
       "      <td>0.012607</td>\n",
       "      <td>0.002100</td>\n",
       "      <td>0.002443</td>\n",
       "      <td>87.336246</td>\n",
       "      <td>0.002107</td>\n",
       "    </tr>\n",
       "    <tr>\n",
       "      <th>std</th>\n",
       "      <td>27828.974490</td>\n",
       "      <td>1.850523</td>\n",
       "      <td>1.610865</td>\n",
       "      <td>1.383248</td>\n",
       "      <td>1.371899</td>\n",
       "      <td>1.338609</td>\n",
       "      <td>1.295132</td>\n",
       "      <td>1.208518</td>\n",
       "      <td>1.227627</td>\n",
       "      <td>1.152289</td>\n",
       "      <td>...</td>\n",
       "      <td>0.743723</td>\n",
       "      <td>0.667322</td>\n",
       "      <td>0.584511</td>\n",
       "      <td>0.598757</td>\n",
       "      <td>0.465511</td>\n",
       "      <td>0.490667</td>\n",
       "      <td>0.391952</td>\n",
       "      <td>0.307317</td>\n",
       "      <td>245.952377</td>\n",
       "      <td>0.045850</td>\n",
       "    </tr>\n",
       "    <tr>\n",
       "      <th>min</th>\n",
       "      <td>0.000000</td>\n",
       "      <td>-56.407510</td>\n",
       "      <td>-72.715728</td>\n",
       "      <td>-33.680984</td>\n",
       "      <td>-5.519697</td>\n",
       "      <td>-42.147898</td>\n",
       "      <td>-26.160506</td>\n",
       "      <td>-43.557242</td>\n",
       "      <td>-73.216718</td>\n",
       "      <td>-13.434066</td>\n",
       "      <td>...</td>\n",
       "      <td>-34.830382</td>\n",
       "      <td>-10.933144</td>\n",
       "      <td>-44.807735</td>\n",
       "      <td>-2.836627</td>\n",
       "      <td>-10.295397</td>\n",
       "      <td>-2.604551</td>\n",
       "      <td>-22.565679</td>\n",
       "      <td>-11.710896</td>\n",
       "      <td>0.000000</td>\n",
       "      <td>0.000000</td>\n",
       "    </tr>\n",
       "    <tr>\n",
       "      <th>25%</th>\n",
       "      <td>41217.000000</td>\n",
       "      <td>-0.986678</td>\n",
       "      <td>-0.539179</td>\n",
       "      <td>-0.064757</td>\n",
       "      <td>-0.743469</td>\n",
       "      <td>-0.828769</td>\n",
       "      <td>-0.691130</td>\n",
       "      <td>-0.586318</td>\n",
       "      <td>-0.162642</td>\n",
       "      <td>-0.660087</td>\n",
       "      <td>...</td>\n",
       "      <td>-0.230719</td>\n",
       "      <td>-0.546772</td>\n",
       "      <td>-0.170303</td>\n",
       "      <td>-0.332459</td>\n",
       "      <td>-0.195935</td>\n",
       "      <td>-0.330347</td>\n",
       "      <td>-0.065124</td>\n",
       "      <td>-0.027056</td>\n",
       "      <td>5.480000</td>\n",
       "      <td>0.000000</td>\n",
       "    </tr>\n",
       "    <tr>\n",
       "      <th>50%</th>\n",
       "      <td>60776.000000</td>\n",
       "      <td>-0.183596</td>\n",
       "      <td>0.109687</td>\n",
       "      <td>0.623352</td>\n",
       "      <td>0.124322</td>\n",
       "      <td>-0.226226</td>\n",
       "      <td>-0.202623</td>\n",
       "      <td>-0.031930</td>\n",
       "      <td>0.056663</td>\n",
       "      <td>-0.078965</td>\n",
       "      <td>...</td>\n",
       "      <td>-0.054461</td>\n",
       "      <td>-0.066777</td>\n",
       "      <td>-0.036215</td>\n",
       "      <td>0.059467</td>\n",
       "      <td>0.135677</td>\n",
       "      <td>-0.058970</td>\n",
       "      <td>0.008693</td>\n",
       "      <td>0.021151</td>\n",
       "      <td>21.895000</td>\n",
       "      <td>0.000000</td>\n",
       "    </tr>\n",
       "    <tr>\n",
       "      <th>75%</th>\n",
       "      <td>78622.750000</td>\n",
       "      <td>1.184444</td>\n",
       "      <td>0.804222</td>\n",
       "      <td>1.297353</td>\n",
       "      <td>0.937619</td>\n",
       "      <td>0.374481</td>\n",
       "      <td>0.449208</td>\n",
       "      <td>0.462624</td>\n",
       "      <td>0.350995</td>\n",
       "      <td>0.641342</td>\n",
       "      <td>...</td>\n",
       "      <td>0.128339</td>\n",
       "      <td>0.363171</td>\n",
       "      <td>0.098701</td>\n",
       "      <td>0.415855</td>\n",
       "      <td>0.399459</td>\n",
       "      <td>0.272940</td>\n",
       "      <td>0.089729</td>\n",
       "      <td>0.078303</td>\n",
       "      <td>76.720000</td>\n",
       "      <td>0.000000</td>\n",
       "    </tr>\n",
       "    <tr>\n",
       "      <th>max</th>\n",
       "      <td>120396.000000</td>\n",
       "      <td>2.439207</td>\n",
       "      <td>22.057729</td>\n",
       "      <td>9.382558</td>\n",
       "      <td>16.875344</td>\n",
       "      <td>34.801666</td>\n",
       "      <td>22.529298</td>\n",
       "      <td>36.677268</td>\n",
       "      <td>20.007208</td>\n",
       "      <td>15.594995</td>\n",
       "      <td>...</td>\n",
       "      <td>27.202839</td>\n",
       "      <td>10.503090</td>\n",
       "      <td>19.002942</td>\n",
       "      <td>4.022866</td>\n",
       "      <td>7.519589</td>\n",
       "      <td>3.517346</td>\n",
       "      <td>12.152401</td>\n",
       "      <td>33.847808</td>\n",
       "      <td>19656.530000</td>\n",
       "      <td>1.000000</td>\n",
       "    </tr>\n",
       "  </tbody>\n",
       "</table>\n",
       "<p>8 rows × 31 columns</p>\n",
       "</div>"
      ],
      "text/plain": [
       "                Time             V1             V2             V3  \\\n",
       "count  170886.000000  170886.000000  170886.000000  170886.000000   \n",
       "mean    61092.608212      -0.169856       0.040770       0.493038   \n",
       "std     27828.974490       1.850523       1.610865       1.383248   \n",
       "min         0.000000     -56.407510     -72.715728     -33.680984   \n",
       "25%     41217.000000      -0.986678      -0.539179      -0.064757   \n",
       "50%     60776.000000      -0.183596       0.109687       0.623352   \n",
       "75%     78622.750000       1.184444       0.804222       1.297353   \n",
       "max    120396.000000       2.439207      22.057729       9.382558   \n",
       "\n",
       "                  V4             V5             V6             V7  \\\n",
       "count  170886.000000  170886.000000  170886.000000  170886.000000   \n",
       "mean        0.117430      -0.176091       0.058238      -0.080670   \n",
       "std         1.371899       1.338609       1.295132       1.208518   \n",
       "min        -5.519697     -42.147898     -26.160506     -43.557242   \n",
       "25%        -0.743469      -0.828769      -0.691130      -0.586318   \n",
       "50%         0.124322      -0.226226      -0.202623      -0.031930   \n",
       "75%         0.937619       0.374481       0.449208       0.462624   \n",
       "max        16.875344      34.801666      22.529298      36.677268   \n",
       "\n",
       "                  V8             V9  ...            V21            V22  \\\n",
       "count  170886.000000  170886.000000  ...  170886.000000  170886.000000   \n",
       "mean        0.032215       0.018873  ...      -0.028273      -0.083738   \n",
       "std         1.227627       1.152289  ...       0.743723       0.667322   \n",
       "min       -73.216718     -13.434066  ...     -34.830382     -10.933144   \n",
       "25%        -0.162642      -0.660087  ...      -0.230719      -0.546772   \n",
       "50%         0.056663      -0.078965  ...      -0.054461      -0.066777   \n",
       "75%         0.350995       0.641342  ...       0.128339       0.363171   \n",
       "max        20.007208      15.594995  ...      27.202839      10.503090   \n",
       "\n",
       "                 V23            V24            V25            V26  \\\n",
       "count  170886.000000  170886.000000  170886.000000  170886.000000   \n",
       "mean       -0.022461       0.009004       0.092271       0.012607   \n",
       "std         0.584511       0.598757       0.465511       0.490667   \n",
       "min       -44.807735      -2.836627     -10.295397      -2.604551   \n",
       "25%        -0.170303      -0.332459      -0.195935      -0.330347   \n",
       "50%        -0.036215       0.059467       0.135677      -0.058970   \n",
       "75%         0.098701       0.415855       0.399459       0.272940   \n",
       "max        19.002942       4.022866       7.519589       3.517346   \n",
       "\n",
       "                 V27            V28         Amount          Class  \n",
       "count  170886.000000  170886.000000  170886.000000  170886.000000  \n",
       "mean        0.002100       0.002443      87.336246       0.002107  \n",
       "std         0.391952       0.307317     245.952377       0.045850  \n",
       "min       -22.565679     -11.710896       0.000000       0.000000  \n",
       "25%        -0.065124      -0.027056       5.480000       0.000000  \n",
       "50%         0.008693       0.021151      21.895000       0.000000  \n",
       "75%         0.089729       0.078303      76.720000       0.000000  \n",
       "max        12.152401      33.847808   19656.530000       1.000000  \n",
       "\n",
       "[8 rows x 31 columns]"
      ]
     },
     "execution_count": 10,
     "metadata": {
      "tags": []
     },
     "output_type": "execute_result"
    }
   ],
   "source": [
    "train.describe()"
   ]
  },
  {
   "cell_type": "code",
   "execution_count": 11,
   "metadata": {
    "colab": {
     "base_uri": "https://localhost:8080/"
    },
    "executionInfo": {
     "elapsed": 1096,
     "status": "ok",
     "timestamp": 1614074515992,
     "user": {
      "displayName": "Chijioke Ubajaka",
      "photoUrl": "https://lh3.googleusercontent.com/a-/AOh14Gj5pHBGlnn7WeCIFUtYlXYNPi5Bj5gqnnnNUBKSEA=s64",
      "userId": "05624813491044791252"
     },
     "user_tz": -60
    },
    "id": "8YgI-iVrUCzi",
    "outputId": "f630bba6-3840-4728-b1eb-c86fadcaa5b1"
   },
   "outputs": [
    {
     "data": {
      "text/plain": [
       "Index([u'Time', u'V1', u'V2', u'V3', u'V4', u'V5', u'V6', u'V7', u'V8', u'V9',\n",
       "       u'V10', u'V11', u'V12', u'V13', u'V14', u'V15', u'V16', u'V17', u'V18',\n",
       "       u'V19', u'V20', u'V21', u'V22', u'V23', u'V24', u'V25', u'V26', u'V27',\n",
       "       u'V28', u'Amount', u'Class'],\n",
       "      dtype='object')"
      ]
     },
     "execution_count": 11,
     "metadata": {
      "tags": []
     },
     "output_type": "execute_result"
    }
   ],
   "source": [
    "train.columns"
   ]
  },
  {
   "cell_type": "code",
   "execution_count": 12,
   "metadata": {
    "colab": {
     "base_uri": "https://localhost:8080/"
    },
    "executionInfo": {
     "elapsed": 1309,
     "status": "ok",
     "timestamp": 1614074518811,
     "user": {
      "displayName": "Chijioke Ubajaka",
      "photoUrl": "https://lh3.googleusercontent.com/a-/AOh14Gj5pHBGlnn7WeCIFUtYlXYNPi5Bj5gqnnnNUBKSEA=s64",
      "userId": "05624813491044791252"
     },
     "user_tz": -60
    },
    "id": "5GySXWsKUCzl",
    "outputId": "2abf4474-076f-4120-935b-f9667bdf17d8"
   },
   "outputs": [
    {
     "data": {
      "text/plain": [
       "Index([u'id', u'Time', u'V1', u'V2', u'V3', u'V4', u'V5', u'V6', u'V7', u'V8',\n",
       "       u'V9', u'V10', u'V11', u'V12', u'V13', u'V14', u'V15', u'V16', u'V17',\n",
       "       u'V18', u'V19', u'V20', u'V21', u'V22', u'V23', u'V24', u'V25', u'V26',\n",
       "       u'V27', u'V28', u'Amount'],\n",
       "      dtype='object')"
      ]
     },
     "execution_count": 12,
     "metadata": {
      "tags": []
     },
     "output_type": "execute_result"
    }
   ],
   "source": [
    "test.columns"
   ]
  },
  {
   "cell_type": "code",
   "execution_count": 12,
   "metadata": {
    "executionInfo": {
     "elapsed": 1359,
     "status": "ok",
     "timestamp": 1614074523951,
     "user": {
      "displayName": "Chijioke Ubajaka",
      "photoUrl": "https://lh3.googleusercontent.com/a-/AOh14Gj5pHBGlnn7WeCIFUtYlXYNPi5Bj5gqnnnNUBKSEA=s64",
      "userId": "05624813491044791252"
     },
     "user_tz": -60
    },
    "id": "xa9g43HWUCzp"
   },
   "outputs": [],
   "source": []
  },
  {
   "cell_type": "code",
   "execution_count": 36,
   "metadata": {
    "colab": {
     "base_uri": "https://localhost:8080/"
    },
    "executionInfo": {
     "elapsed": 1014,
     "status": "ok",
     "timestamp": 1614075439673,
     "user": {
      "displayName": "Chijioke Ubajaka",
      "photoUrl": "https://lh3.googleusercontent.com/a-/AOh14Gj5pHBGlnn7WeCIFUtYlXYNPi5Bj5gqnnnNUBKSEA=s64",
      "userId": "05624813491044791252"
     },
     "user_tz": -60
    },
    "id": "QkHd9G9eUCzq",
    "outputId": "33d6a312-7b5b-40cf-fba1-a4fec12af942"
   },
   "outputs": [
    {
     "data": {
      "text/plain": [
       "Index([u'V1', u'V2', u'V3', u'V4', u'V5', u'V6', u'V7', u'V8', u'V9', u'V10',\n",
       "       u'V11', u'V12', u'V13', u'V14', u'V15', u'V16', u'V17', u'V18', u'V19',\n",
       "       u'V20', u'V21', u'V22', u'V23', u'V24', u'V25', u'V26', u'V27', u'V28',\n",
       "       u'Class', u'normAmount'],\n",
       "      dtype='object')"
      ]
     },
     "execution_count": 36,
     "metadata": {
      "tags": []
     },
     "output_type": "execute_result"
    }
   ],
   "source": [
    "from sklearn.preprocessing import StandardScaler\n",
    "\n",
    "train['normAmount'] = StandardScaler().fit_transform(train['Amount'].values.reshape(-1,1))\n",
    "# StandardScaler().fit_transform(train['Amount'].reshape(-1, 1))\n",
    "train.drop(['Time', 'Amount'], axis=1, inplace=True)\n",
    "train.columns"
   ]
  },
  {
   "cell_type": "code",
   "execution_count": 39,
   "metadata": {
    "executionInfo": {
     "elapsed": 971,
     "status": "ok",
     "timestamp": 1614075505686,
     "user": {
      "displayName": "Chijioke Ubajaka",
      "photoUrl": "https://lh3.googleusercontent.com/a-/AOh14Gj5pHBGlnn7WeCIFUtYlXYNPi5Bj5gqnnnNUBKSEA=s64",
      "userId": "05624813491044791252"
     },
     "user_tz": -60
    },
    "id": "KNy6GIAnUCzt"
   },
   "outputs": [],
   "source": [
    "X = train.iloc[:,train.columns != 'Class']\n",
    "y = train.iloc[:, train.columns == 'Class']"
   ]
  },
  {
   "cell_type": "code",
   "execution_count": 40,
   "metadata": {
    "colab": {
     "base_uri": "https://localhost:8080/"
    },
    "executionInfo": {
     "elapsed": 1078,
     "status": "ok",
     "timestamp": 1614075536843,
     "user": {
      "displayName": "Chijioke Ubajaka",
      "photoUrl": "https://lh3.googleusercontent.com/a-/AOh14Gj5pHBGlnn7WeCIFUtYlXYNPi5Bj5gqnnnNUBKSEA=s64",
      "userId": "05624813491044791252"
     },
     "user_tz": -60
    },
    "id": "owhpQBr7UCzu",
    "outputId": "c96e6aff-6329-4be6-887d-bcfd8a04bab4"
   },
   "outputs": [
    {
     "name": "stdout",
     "output_type": "stream",
     "text": [
      "('Percentage of normal transactions: ', 0.5)\n",
      "('Percentage of fraud transactions: ', 0.5)\n",
      "('Total number of transactions in resampled data: ', 720)\n"
     ]
    }
   ],
   "source": [
    "no_record_fraud = len(train[train['Class']== 1])\n",
    "fraud_indices = np.array(train[train['Class'] == 1].index)\n",
    "\n",
    "normal_indices = train[train['Class'] == 0].index\n",
    "\n",
    "random_normal_indices = np.random.choice(normal_indices, no_record_fraud, replace=False)\n",
    "\n",
    "random_normal_indices = np.array(random_normal_indices)\n",
    "\n",
    "under_sample_indices = np.concatenate([random_normal_indices, fraud_indices])\n",
    "\n",
    "under_sample_data = train.iloc[under_sample_indices,:]\n",
    "\n",
    "X_undersample = under_sample_data.iloc[:, under_sample_data.columns != 'Class']\n",
    "y_undersample = under_sample_data.iloc[:, under_sample_data.columns == 'Class']\n",
    "\n",
    "# Showing ratio\n",
    "from __future__ import division\n",
    "print(\"Percentage of normal transactions: \", len(under_sample_data[under_sample_data.Class == 0])/len(under_sample_data))\n",
    "print(\"Percentage of fraud transactions: \", len(under_sample_data[under_sample_data.Class == 1])/len(under_sample_data))\n",
    "print(\"Total number of transactions in resampled data: \", len(under_sample_data))"
   ]
  },
  {
   "cell_type": "code",
   "execution_count": 42,
   "metadata": {
    "colab": {
     "base_uri": "https://localhost:8080/"
    },
    "executionInfo": {
     "elapsed": 2027,
     "status": "ok",
     "timestamp": 1614075683570,
     "user": {
      "displayName": "Chijioke Ubajaka",
      "photoUrl": "https://lh3.googleusercontent.com/a-/AOh14Gj5pHBGlnn7WeCIFUtYlXYNPi5Bj5gqnnnNUBKSEA=s64",
      "userId": "05624813491044791252"
     },
     "user_tz": -60
    },
    "id": "YXwFhEoyUCzx",
    "outputId": "dc1b73e7-b1da-4eff-ebfd-320f6fa401a4"
   },
   "outputs": [
    {
     "name": "stdout",
     "output_type": "stream",
     "text": [
      "('Number transactions train dataset: ', 119620)\n",
      "('Number transactions test dataset: ', 51266)\n",
      "('Total number of transactions: ', 170886)\n",
      "\n",
      "('Number transactions train dataset: ', 504)\n",
      "('Number transactions test dataset: ', 216)\n",
      "('Total number of transactions: ', 720)\n"
     ]
    }
   ],
   "source": [
    "from sklearn.model_selection import train_test_split\n",
    "\n",
    "X_train, X_test, y_train, y_test = train_test_split(X,y, test_size=0.3, random_state = 0)\n",
    "\n",
    "print(\"Number transactions train dataset: \", len(X_train))\n",
    "print(\"Number transactions test dataset: \", len(X_test))\n",
    "print(\"Total number of transactions: \", len(X_train)+len(X_test))\n",
    "\n",
    "X_train_undersample, X_test_undersample, y_train_undersample, y_test_undersample = train_test_split(X_undersample, y_undersample, test_size=0.3, random_state=0)\n",
    "\n",
    "print(\"\")\n",
    "print(\"Number transactions train dataset: \", len(X_train_undersample))\n",
    "print(\"Number transactions test dataset: \", len(X_test_undersample))\n",
    "print(\"Total number of transactions: \", len(X_train_undersample)+len(X_test_undersample))"
   ]
  },
  {
   "cell_type": "code",
   "execution_count": 43,
   "metadata": {
    "executionInfo": {
     "elapsed": 1399,
     "status": "ok",
     "timestamp": 1614075730344,
     "user": {
      "displayName": "Chijioke Ubajaka",
      "photoUrl": "https://lh3.googleusercontent.com/a-/AOh14Gj5pHBGlnn7WeCIFUtYlXYNPi5Bj5gqnnnNUBKSEA=s64",
      "userId": "05624813491044791252"
     },
     "user_tz": -60
    },
    "id": "L0mSqAH5UCzz"
   },
   "outputs": [],
   "source": [
    "from sklearn.linear_model import LogisticRegression\n",
    "from sklearn.model_selection import KFold, cross_val_score\n",
    "from sklearn.metrics import confusion_matrix,precision_recall_curve,auc,roc_auc_score,roc_curve,recall_score,classification_report "
   ]
  },
  {
   "cell_type": "code",
   "execution_count": 78,
   "metadata": {
    "colab": {
     "base_uri": "https://localhost:8080/"
    },
    "executionInfo": {
     "elapsed": 1124,
     "status": "ok",
     "timestamp": 1614077294061,
     "user": {
      "displayName": "Chijioke Ubajaka",
      "photoUrl": "https://lh3.googleusercontent.com/a-/AOh14Gj5pHBGlnn7WeCIFUtYlXYNPi5Bj5gqnnnNUBKSEA=s64",
      "userId": "05624813491044791252"
     },
     "user_tz": -60
    },
    "id": "g7bPr3amUCz1",
    "outputId": "18464d6a-f7b2-4b9d-e417-d9d6734181a6"
   },
   "outputs": [
    {
     "name": "stdout",
     "output_type": "stream",
     "text": [
      "0.9545610425240054\n"
     ]
    }
   ],
   "source": [
    "lr = LogisticRegression(C = 0.01, penalty = 'l1')\n",
    "y_pred_undersample_score= lr.fit(X_train_undersample,y_train_undersample.values.ravel()).decision_function(X_test_undersample.values)\n",
    "fpr, tpr, thresholds = roc_curve(y_test_undersample.values.ravel(),y_pred_undersample_score)\n",
    "roc_auc = auc(fpr,tpr)\n",
    "print(roc_auc)"
   ]
  },
  {
   "cell_type": "code",
   "execution_count": 76,
   "metadata": {
    "executionInfo": {
     "elapsed": 1181,
     "status": "ok",
     "timestamp": 1614076863229,
     "user": {
      "displayName": "Chijioke Ubajaka",
      "photoUrl": "https://lh3.googleusercontent.com/a-/AOh14Gj5pHBGlnn7WeCIFUtYlXYNPi5Bj5gqnnnNUBKSEA=s64",
      "userId": "05624813491044791252"
     },
     "user_tz": -60
    },
    "id": "krC0xApBUCz4"
   },
   "outputs": [],
   "source": [
    "y_pred_undersample = lr.predict_proba(X_train_undersample.values)"
   ]
  },
  {
   "cell_type": "code",
   "execution_count": 79,
   "metadata": {
    "colab": {
     "base_uri": "https://localhost:8080/"
    },
    "executionInfo": {
     "elapsed": 1047,
     "status": "ok",
     "timestamp": 1614077319653,
     "user": {
      "displayName": "Chijioke Ubajaka",
      "photoUrl": "https://lh3.googleusercontent.com/a-/AOh14Gj5pHBGlnn7WeCIFUtYlXYNPi5Bj5gqnnnNUBKSEA=s64",
      "userId": "05624813491044791252"
     },
     "user_tz": -60
    },
    "id": "V5fFCD7dUCz5",
    "outputId": "fa3e3702-58a4-40fc-bdb8-4e408ee83492"
   },
   "outputs": [
    {
     "name": "stdout",
     "output_type": "stream",
     "text": [
      "[[0.02647239 0.97352761]\n",
      " [0.48876535 0.51123465]\n",
      " [0.49290638 0.50709362]\n",
      " ...\n",
      " [0.02930417 0.97069583]\n",
      " [0.14882594 0.85117406]\n",
      " [0.01462714 0.98537286]]\n"
     ]
    }
   ],
   "source": [
    "print(y_pred_undersample)\n",
    "# recall_acc = recall_score(y_train_undersample.values,y_pred_undersample)"
   ]
  },
  {
   "cell_type": "code",
   "execution_count": 80,
   "metadata": {
    "colab": {
     "base_uri": "https://localhost:8080/"
    },
    "executionInfo": {
     "elapsed": 1260,
     "status": "ok",
     "timestamp": 1614077327284,
     "user": {
      "displayName": "Chijioke Ubajaka",
      "photoUrl": "https://lh3.googleusercontent.com/a-/AOh14Gj5pHBGlnn7WeCIFUtYlXYNPi5Bj5gqnnnNUBKSEA=s64",
      "userId": "05624813491044791252"
     },
     "user_tz": -60
    },
    "id": "3gx0Uwl3UCz7",
    "outputId": "df866a01-c3ca-4ba3-9bf9-08392c952a63"
   },
   "outputs": [
    {
     "data": {
      "text/plain": [
       "Index([u'V1', u'V2', u'V3', u'V4', u'V5', u'V6', u'V7', u'V8', u'V9', u'V10',\n",
       "       u'V11', u'V12', u'V13', u'V14', u'V15', u'V16', u'V17', u'V18', u'V19',\n",
       "       u'V20', u'V21', u'V22', u'V23', u'V24', u'V25', u'V26', u'V27', u'V28',\n",
       "       u'normAmount'],\n",
       "      dtype='object')"
      ]
     },
     "execution_count": 80,
     "metadata": {
      "tags": []
     },
     "output_type": "execute_result"
    }
   ],
   "source": [
    "# print recall_acc\n",
    "test_id = test['id']\n",
    "test['normAmount'] = StandardScaler().fit_transform(test['Amount'].values.reshape(-1, 1))\n",
    "test.drop(['id','Time', 'Amount'], axis=1, inplace=True)\n",
    "test.columns"
   ]
  },
  {
   "cell_type": "code",
   "execution_count": 81,
   "metadata": {
    "colab": {
     "base_uri": "https://localhost:8080/",
     "height": 431
    },
    "executionInfo": {
     "elapsed": 1132,
     "status": "ok",
     "timestamp": 1614077332888,
     "user": {
      "displayName": "Chijioke Ubajaka",
      "photoUrl": "https://lh3.googleusercontent.com/a-/AOh14Gj5pHBGlnn7WeCIFUtYlXYNPi5Bj5gqnnnNUBKSEA=s64",
      "userId": "05624813491044791252"
     },
     "user_tz": -60
    },
    "id": "zhnYGH_kUCz-",
    "outputId": "d4f05cd7-c513-4934-c055-da466c56876c"
   },
   "outputs": [
    {
     "data": {
      "text/html": [
       "<div>\n",
       "<style scoped>\n",
       "    .dataframe tbody tr th:only-of-type {\n",
       "        vertical-align: middle;\n",
       "    }\n",
       "\n",
       "    .dataframe tbody tr th {\n",
       "        vertical-align: top;\n",
       "    }\n",
       "\n",
       "    .dataframe thead th {\n",
       "        text-align: right;\n",
       "    }\n",
       "</style>\n",
       "<table border=\"1\" class=\"dataframe\">\n",
       "  <thead>\n",
       "    <tr style=\"text-align: right;\">\n",
       "      <th></th>\n",
       "      <th>V1</th>\n",
       "      <th>V2</th>\n",
       "      <th>V3</th>\n",
       "      <th>V4</th>\n",
       "      <th>V5</th>\n",
       "      <th>V6</th>\n",
       "      <th>V7</th>\n",
       "      <th>V8</th>\n",
       "      <th>V9</th>\n",
       "      <th>V10</th>\n",
       "      <th>...</th>\n",
       "      <th>V20</th>\n",
       "      <th>V21</th>\n",
       "      <th>V22</th>\n",
       "      <th>V23</th>\n",
       "      <th>V24</th>\n",
       "      <th>V25</th>\n",
       "      <th>V26</th>\n",
       "      <th>V27</th>\n",
       "      <th>V28</th>\n",
       "      <th>normAmount</th>\n",
       "    </tr>\n",
       "  </thead>\n",
       "  <tbody>\n",
       "    <tr>\n",
       "      <th>count</th>\n",
       "      <td>113922.000000</td>\n",
       "      <td>113922.000000</td>\n",
       "      <td>113922.000000</td>\n",
       "      <td>113922.000000</td>\n",
       "      <td>113922.000000</td>\n",
       "      <td>113922.000000</td>\n",
       "      <td>113922.000000</td>\n",
       "      <td>113922.000000</td>\n",
       "      <td>113922.000000</td>\n",
       "      <td>113922.000000</td>\n",
       "      <td>...</td>\n",
       "      <td>113922.000000</td>\n",
       "      <td>113922.000000</td>\n",
       "      <td>113922.000000</td>\n",
       "      <td>113922.000000</td>\n",
       "      <td>113922.000000</td>\n",
       "      <td>113922.000000</td>\n",
       "      <td>113922.000000</td>\n",
       "      <td>113922.000000</td>\n",
       "      <td>113922.000000</td>\n",
       "      <td>1.139220e+05</td>\n",
       "    </tr>\n",
       "    <tr>\n",
       "      <th>mean</th>\n",
       "      <td>0.254790</td>\n",
       "      <td>-0.061147</td>\n",
       "      <td>-0.739574</td>\n",
       "      <td>-0.176145</td>\n",
       "      <td>0.264154</td>\n",
       "      <td>-0.087355</td>\n",
       "      <td>0.121014</td>\n",
       "      <td>-0.048323</td>\n",
       "      <td>-0.028315</td>\n",
       "      <td>0.044780</td>\n",
       "      <td>...</td>\n",
       "      <td>-0.046415</td>\n",
       "      <td>0.042414</td>\n",
       "      <td>0.125620</td>\n",
       "      <td>0.033691</td>\n",
       "      <td>-0.013508</td>\n",
       "      <td>-0.138416</td>\n",
       "      <td>-0.018915</td>\n",
       "      <td>-0.003145</td>\n",
       "      <td>-0.003661</td>\n",
       "      <td>-1.995872e-18</td>\n",
       "    </tr>\n",
       "    <tr>\n",
       "      <th>std</th>\n",
       "      <td>2.084798</td>\n",
       "      <td>1.708363</td>\n",
       "      <td>1.402110</td>\n",
       "      <td>1.461795</td>\n",
       "      <td>1.399507</td>\n",
       "      <td>1.381521</td>\n",
       "      <td>1.269185</td>\n",
       "      <td>1.140921</td>\n",
       "      <td>1.012170</td>\n",
       "      <td>1.075166</td>\n",
       "      <td>...</td>\n",
       "      <td>0.831851</td>\n",
       "      <td>0.718423</td>\n",
       "      <td>0.788891</td>\n",
       "      <td>0.678606</td>\n",
       "      <td>0.615592</td>\n",
       "      <td>0.567761</td>\n",
       "      <td>0.468648</td>\n",
       "      <td>0.420530</td>\n",
       "      <td>0.361525</td>\n",
       "      <td>1.000004e+00</td>\n",
       "    </tr>\n",
       "    <tr>\n",
       "      <th>min</th>\n",
       "      <td>-46.855047</td>\n",
       "      <td>-50.383269</td>\n",
       "      <td>-48.325589</td>\n",
       "      <td>-5.683171</td>\n",
       "      <td>-113.743307</td>\n",
       "      <td>-20.869626</td>\n",
       "      <td>-23.386192</td>\n",
       "      <td>-39.688571</td>\n",
       "      <td>-5.315778</td>\n",
       "      <td>-12.005487</td>\n",
       "      <td>...</td>\n",
       "      <td>-54.497720</td>\n",
       "      <td>-21.620120</td>\n",
       "      <td>-7.417140</td>\n",
       "      <td>-36.666000</td>\n",
       "      <td>-2.790479</td>\n",
       "      <td>-8.696627</td>\n",
       "      <td>-1.855355</td>\n",
       "      <td>-9.895244</td>\n",
       "      <td>-15.430084</td>\n",
       "      <td>-3.507272e-01</td>\n",
       "    </tr>\n",
       "    <tr>\n",
       "      <th>25%</th>\n",
       "      <td>-0.803474</td>\n",
       "      <td>-0.691492</td>\n",
       "      <td>-1.598875</td>\n",
       "      <td>-0.978321</td>\n",
       "      <td>-0.437266</td>\n",
       "      <td>-0.880160</td>\n",
       "      <td>-0.491670</td>\n",
       "      <td>-0.273016</td>\n",
       "      <td>-0.611783</td>\n",
       "      <td>-0.568003</td>\n",
       "      <td>...</td>\n",
       "      <td>-0.247525</td>\n",
       "      <td>-0.223898</td>\n",
       "      <td>-0.534498</td>\n",
       "      <td>-0.142556</td>\n",
       "      <td>-0.382477</td>\n",
       "      <td>-0.450982</td>\n",
       "      <td>-0.313889</td>\n",
       "      <td>-0.075609</td>\n",
       "      <td>-0.062309</td>\n",
       "      <td>-3.275064e-01</td>\n",
       "    </tr>\n",
       "    <tr>\n",
       "      <th>50%</th>\n",
       "      <td>0.117918</td>\n",
       "      <td>-0.005869</td>\n",
       "      <td>-0.734515</td>\n",
       "      <td>-0.337116</td>\n",
       "      <td>0.250455</td>\n",
       "      <td>-0.389824</td>\n",
       "      <td>0.153539</td>\n",
       "      <td>-0.035898</td>\n",
       "      <td>-0.011578</td>\n",
       "      <td>-0.039087</td>\n",
       "      <td>...</td>\n",
       "      <td>-0.104915</td>\n",
       "      <td>0.036140</td>\n",
       "      <td>0.186984</td>\n",
       "      <td>0.040797</td>\n",
       "      <td>0.016353</td>\n",
       "      <td>-0.193161</td>\n",
       "      <td>-0.041568</td>\n",
       "      <td>-0.009557</td>\n",
       "      <td>-0.028504</td>\n",
       "      <td>-2.631127e-01</td>\n",
       "    </tr>\n",
       "    <tr>\n",
       "      <th>75%</th>\n",
       "      <td>1.978708</td>\n",
       "      <td>0.803288</td>\n",
       "      <td>0.121452</td>\n",
       "      <td>0.431538</td>\n",
       "      <td>0.882898</td>\n",
       "      <td>0.309488</td>\n",
       "      <td>0.746786</td>\n",
       "      <td>0.285892</td>\n",
       "      <td>0.553190</td>\n",
       "      <td>0.535297</td>\n",
       "      <td>...</td>\n",
       "      <td>0.091963</td>\n",
       "      <td>0.253761</td>\n",
       "      <td>0.750595</td>\n",
       "      <td>0.227964</td>\n",
       "      <td>0.524469</td>\n",
       "      <td>0.221846</td>\n",
       "      <td>0.214747</td>\n",
       "      <td>0.093809</td>\n",
       "      <td>0.078240</td>\n",
       "      <td>-4.632056e-02</td>\n",
       "    </tr>\n",
       "    <tr>\n",
       "      <th>max</th>\n",
       "      <td>2.454930</td>\n",
       "      <td>12.730564</td>\n",
       "      <td>3.937048</td>\n",
       "      <td>15.304184</td>\n",
       "      <td>29.162172</td>\n",
       "      <td>73.301626</td>\n",
       "      <td>120.589494</td>\n",
       "      <td>12.766112</td>\n",
       "      <td>7.871113</td>\n",
       "      <td>12.424602</td>\n",
       "      <td>...</td>\n",
       "      <td>23.643417</td>\n",
       "      <td>20.063786</td>\n",
       "      <td>8.272233</td>\n",
       "      <td>22.528412</td>\n",
       "      <td>4.584549</td>\n",
       "      <td>6.070850</td>\n",
       "      <td>3.415636</td>\n",
       "      <td>31.612198</td>\n",
       "      <td>16.129609</td>\n",
       "      <td>9.991284e+01</td>\n",
       "    </tr>\n",
       "  </tbody>\n",
       "</table>\n",
       "<p>8 rows × 29 columns</p>\n",
       "</div>"
      ],
      "text/plain": [
       "                  V1             V2             V3             V4  \\\n",
       "count  113922.000000  113922.000000  113922.000000  113922.000000   \n",
       "mean        0.254790      -0.061147      -0.739574      -0.176145   \n",
       "std         2.084798       1.708363       1.402110       1.461795   \n",
       "min       -46.855047     -50.383269     -48.325589      -5.683171   \n",
       "25%        -0.803474      -0.691492      -1.598875      -0.978321   \n",
       "50%         0.117918      -0.005869      -0.734515      -0.337116   \n",
       "75%         1.978708       0.803288       0.121452       0.431538   \n",
       "max         2.454930      12.730564       3.937048      15.304184   \n",
       "\n",
       "                  V5             V6             V7             V8  \\\n",
       "count  113922.000000  113922.000000  113922.000000  113922.000000   \n",
       "mean        0.264154      -0.087355       0.121014      -0.048323   \n",
       "std         1.399507       1.381521       1.269185       1.140921   \n",
       "min      -113.743307     -20.869626     -23.386192     -39.688571   \n",
       "25%        -0.437266      -0.880160      -0.491670      -0.273016   \n",
       "50%         0.250455      -0.389824       0.153539      -0.035898   \n",
       "75%         0.882898       0.309488       0.746786       0.285892   \n",
       "max        29.162172      73.301626     120.589494      12.766112   \n",
       "\n",
       "                  V9            V10  ...            V20            V21  \\\n",
       "count  113922.000000  113922.000000  ...  113922.000000  113922.000000   \n",
       "mean       -0.028315       0.044780  ...      -0.046415       0.042414   \n",
       "std         1.012170       1.075166  ...       0.831851       0.718423   \n",
       "min        -5.315778     -12.005487  ...     -54.497720     -21.620120   \n",
       "25%        -0.611783      -0.568003  ...      -0.247525      -0.223898   \n",
       "50%        -0.011578      -0.039087  ...      -0.104915       0.036140   \n",
       "75%         0.553190       0.535297  ...       0.091963       0.253761   \n",
       "max         7.871113      12.424602  ...      23.643417      20.063786   \n",
       "\n",
       "                 V22            V23            V24            V25  \\\n",
       "count  113922.000000  113922.000000  113922.000000  113922.000000   \n",
       "mean        0.125620       0.033691      -0.013508      -0.138416   \n",
       "std         0.788891       0.678606       0.615592       0.567761   \n",
       "min        -7.417140     -36.666000      -2.790479      -8.696627   \n",
       "25%        -0.534498      -0.142556      -0.382477      -0.450982   \n",
       "50%         0.186984       0.040797       0.016353      -0.193161   \n",
       "75%         0.750595       0.227964       0.524469       0.221846   \n",
       "max         8.272233      22.528412       4.584549       6.070850   \n",
       "\n",
       "                 V26            V27            V28    normAmount  \n",
       "count  113922.000000  113922.000000  113922.000000  1.139220e+05  \n",
       "mean       -0.018915      -0.003145      -0.003661 -1.995872e-18  \n",
       "std         0.468648       0.420530       0.361525  1.000004e+00  \n",
       "min        -1.855355      -9.895244     -15.430084 -3.507272e-01  \n",
       "25%        -0.313889      -0.075609      -0.062309 -3.275064e-01  \n",
       "50%        -0.041568      -0.009557      -0.028504 -2.631127e-01  \n",
       "75%         0.214747       0.093809       0.078240 -4.632056e-02  \n",
       "max         3.415636      31.612198      16.129609  9.991284e+01  \n",
       "\n",
       "[8 rows x 29 columns]"
      ]
     },
     "execution_count": 81,
     "metadata": {
      "tags": []
     },
     "output_type": "execute_result"
    }
   ],
   "source": [
    "test.describe()"
   ]
  },
  {
   "cell_type": "code",
   "execution_count": 83,
   "metadata": {
    "executionInfo": {
     "elapsed": 960,
     "status": "ok",
     "timestamp": 1614077371699,
     "user": {
      "displayName": "Chijioke Ubajaka",
      "photoUrl": "https://lh3.googleusercontent.com/a-/AOh14Gj5pHBGlnn7WeCIFUtYlXYNPi5Bj5gqnnnNUBKSEA=s64",
      "userId": "05624813491044791252"
     },
     "user_tz": -60
    },
    "id": "0O3yUeH8UC0A"
   },
   "outputs": [],
   "source": [
    "y_pred_undersample = lr.predict_proba(test.values)\n",
    "y_class = lr.predict(test.values)"
   ]
  },
  {
   "cell_type": "code",
   "execution_count": 85,
   "metadata": {
    "colab": {
     "base_uri": "https://localhost:8080/"
    },
    "executionInfo": {
     "elapsed": 988,
     "status": "ok",
     "timestamp": 1614077392939,
     "user": {
      "displayName": "Chijioke Ubajaka",
      "photoUrl": "https://lh3.googleusercontent.com/a-/AOh14Gj5pHBGlnn7WeCIFUtYlXYNPi5Bj5gqnnnNUBKSEA=s64",
      "userId": "05624813491044791252"
     },
     "user_tz": -60
    },
    "id": "FkfoS-pXgl3M",
    "outputId": "e7c3cb5c-87eb-4f29-ec13-e850d14e6de0"
   },
   "outputs": [
    {
     "data": {
      "text/plain": [
       "(113922, 29)"
      ]
     },
     "execution_count": 85,
     "metadata": {
      "tags": []
     },
     "output_type": "execute_result"
    }
   ],
   "source": [
    "test.shape"
   ]
  },
  {
   "cell_type": "code",
   "execution_count": 84,
   "metadata": {
    "colab": {
     "base_uri": "https://localhost:8080/"
    },
    "executionInfo": {
     "elapsed": 1000,
     "status": "ok",
     "timestamp": 1614077376564,
     "user": {
      "displayName": "Chijioke Ubajaka",
      "photoUrl": "https://lh3.googleusercontent.com/a-/AOh14Gj5pHBGlnn7WeCIFUtYlXYNPi5Bj5gqnnnNUBKSEA=s64",
      "userId": "05624813491044791252"
     },
     "user_tz": -60
    },
    "id": "VewYCrnbUC0C",
    "outputId": "dadbd8fd-d392-4b91-952f-e0d49cb1a449"
   },
   "outputs": [
    {
     "data": {
      "text/plain": [
       "(113922, 113922)"
      ]
     },
     "execution_count": 84,
     "metadata": {
      "tags": []
     },
     "output_type": "execute_result"
    }
   ],
   "source": [
    "len(y_class), len(y_pred_undersample)"
   ]
  },
  {
   "cell_type": "code",
   "execution_count": 86,
   "metadata": {
    "colab": {
     "base_uri": "https://localhost:8080/"
    },
    "executionInfo": {
     "elapsed": 1305,
     "status": "ok",
     "timestamp": 1614077436100,
     "user": {
      "displayName": "Chijioke Ubajaka",
      "photoUrl": "https://lh3.googleusercontent.com/a-/AOh14Gj5pHBGlnn7WeCIFUtYlXYNPi5Bj5gqnnnNUBKSEA=s64",
      "userId": "05624813491044791252"
     },
     "user_tz": -60
    },
    "id": "7iuxY2POUC0F",
    "outputId": "c50e77ac-0665-45ce-b9c6-647919017965"
   },
   "outputs": [
    {
     "name": "stdout",
     "output_type": "stream",
     "text": [
      "[[0.52924135 0.47075865]\n",
      " [0.50863537 0.49136463]\n",
      " [0.46520273 0.53479727]\n",
      " ...\n",
      " [0.3714755  0.6285245 ]\n",
      " [0.55230889 0.44769111]\n",
      " [0.51462252 0.48537748]]\n"
     ]
    }
   ],
   "source": [
    "print(y_pred_undersample)\n",
    "# print y_class"
   ]
  },
  {
   "cell_type": "code",
   "execution_count": 87,
   "metadata": {
    "colab": {
     "base_uri": "https://localhost:8080/"
    },
    "executionInfo": {
     "elapsed": 1099,
     "status": "ok",
     "timestamp": 1614077454056,
     "user": {
      "displayName": "Chijioke Ubajaka",
      "photoUrl": "https://lh3.googleusercontent.com/a-/AOh14Gj5pHBGlnn7WeCIFUtYlXYNPi5Bj5gqnnnNUBKSEA=s64",
      "userId": "05624813491044791252"
     },
     "user_tz": -60
    },
    "id": "NLfOOA_WUC0J",
    "outputId": "bd277d73-7b9a-4959-ba91-3b351ee2a5c8"
   },
   "outputs": [
    {
     "data": {
      "text/plain": [
       "array([     0,      1,      2, ..., 113919, 113920, 113921])"
      ]
     },
     "execution_count": 87,
     "metadata": {
      "tags": []
     },
     "output_type": "execute_result"
    }
   ],
   "source": [
    "pred_series = y_pred_undersample[:,1]\n",
    "np.array(test_id)"
   ]
  },
  {
   "cell_type": "code",
   "execution_count": null,
   "metadata": {
    "id": "gk0TnMVRUC0K",
    "outputId": "d75e80f3-2c75-450d-9b21-d6458cb81bd7"
   },
   "outputs": [
    {
     "data": {
      "text/plain": [
       "(113922,)"
      ]
     },
     "execution_count": 133,
     "metadata": {
      "tags": []
     },
     "output_type": "execute_result"
    }
   ],
   "source": []
  },
  {
   "cell_type": "code",
   "execution_count": 88,
   "metadata": {
    "colab": {
     "base_uri": "https://localhost:8080/"
    },
    "executionInfo": {
     "elapsed": 1054,
     "status": "ok",
     "timestamp": 1614077472749,
     "user": {
      "displayName": "Chijioke Ubajaka",
      "photoUrl": "https://lh3.googleusercontent.com/a-/AOh14Gj5pHBGlnn7WeCIFUtYlXYNPi5Bj5gqnnnNUBKSEA=s64",
      "userId": "05624813491044791252"
     },
     "user_tz": -60
    },
    "id": "YH9qayo0UC0L",
    "outputId": "15f2a8dd-7280-49e4-bb38-2ed3c65ad4b8"
   },
   "outputs": [
    {
     "data": {
      "text/plain": [
       "(113922, 2)"
      ]
     },
     "execution_count": 88,
     "metadata": {
      "tags": []
     },
     "output_type": "execute_result"
    }
   ],
   "source": [
    "y_pred_undersample.shape"
   ]
  },
  {
   "cell_type": "code",
   "execution_count": 89,
   "metadata": {
    "executionInfo": {
     "elapsed": 1155,
     "status": "ok",
     "timestamp": 1614077484519,
     "user": {
      "displayName": "Chijioke Ubajaka",
      "photoUrl": "https://lh3.googleusercontent.com/a-/AOh14Gj5pHBGlnn7WeCIFUtYlXYNPi5Bj5gqnnnNUBKSEA=s64",
      "userId": "05624813491044791252"
     },
     "user_tz": -60
    },
    "id": "q65-WyVUUC0M"
   },
   "outputs": [],
   "source": [
    "submit = pd.DataFrame({\"id\": np.array(test_id), \"Class\": pred_series}, columns=[\"id\",\"Class\"])"
   ]
  },
  {
   "cell_type": "code",
   "execution_count": 90,
   "metadata": {
    "colab": {
     "base_uri": "https://localhost:8080/",
     "height": 204
    },
    "executionInfo": {
     "elapsed": 1314,
     "status": "ok",
     "timestamp": 1614077486869,
     "user": {
      "displayName": "Chijioke Ubajaka",
      "photoUrl": "https://lh3.googleusercontent.com/a-/AOh14Gj5pHBGlnn7WeCIFUtYlXYNPi5Bj5gqnnnNUBKSEA=s64",
      "userId": "05624813491044791252"
     },
     "user_tz": -60
    },
    "id": "oSgFZStLUC0N",
    "outputId": "e3ab8876-0f87-484c-b89a-dad36bb9d61d"
   },
   "outputs": [
    {
     "data": {
      "text/html": [
       "<div>\n",
       "<style scoped>\n",
       "    .dataframe tbody tr th:only-of-type {\n",
       "        vertical-align: middle;\n",
       "    }\n",
       "\n",
       "    .dataframe tbody tr th {\n",
       "        vertical-align: top;\n",
       "    }\n",
       "\n",
       "    .dataframe thead th {\n",
       "        text-align: right;\n",
       "    }\n",
       "</style>\n",
       "<table border=\"1\" class=\"dataframe\">\n",
       "  <thead>\n",
       "    <tr style=\"text-align: right;\">\n",
       "      <th></th>\n",
       "      <th>id</th>\n",
       "      <th>Class</th>\n",
       "    </tr>\n",
       "  </thead>\n",
       "  <tbody>\n",
       "    <tr>\n",
       "      <th>0</th>\n",
       "      <td>0</td>\n",
       "      <td>0.470759</td>\n",
       "    </tr>\n",
       "    <tr>\n",
       "      <th>1</th>\n",
       "      <td>1</td>\n",
       "      <td>0.491365</td>\n",
       "    </tr>\n",
       "    <tr>\n",
       "      <th>2</th>\n",
       "      <td>2</td>\n",
       "      <td>0.534797</td>\n",
       "    </tr>\n",
       "    <tr>\n",
       "      <th>3</th>\n",
       "      <td>3</td>\n",
       "      <td>0.534939</td>\n",
       "    </tr>\n",
       "    <tr>\n",
       "      <th>4</th>\n",
       "      <td>4</td>\n",
       "      <td>0.519624</td>\n",
       "    </tr>\n",
       "  </tbody>\n",
       "</table>\n",
       "</div>"
      ],
      "text/plain": [
       "   id     Class\n",
       "0   0  0.470759\n",
       "1   1  0.491365\n",
       "2   2  0.534797\n",
       "3   3  0.534939\n",
       "4   4  0.519624"
      ]
     },
     "execution_count": 90,
     "metadata": {
      "tags": []
     },
     "output_type": "execute_result"
    }
   ],
   "source": [
    "submit.head()"
   ]
  },
  {
   "cell_type": "code",
   "execution_count": 91,
   "metadata": {
    "colab": {
     "base_uri": "https://localhost:8080/",
     "height": 297
    },
    "executionInfo": {
     "elapsed": 1277,
     "status": "ok",
     "timestamp": 1614077492229,
     "user": {
      "displayName": "Chijioke Ubajaka",
      "photoUrl": "https://lh3.googleusercontent.com/a-/AOh14Gj5pHBGlnn7WeCIFUtYlXYNPi5Bj5gqnnnNUBKSEA=s64",
      "userId": "05624813491044791252"
     },
     "user_tz": -60
    },
    "id": "Oa-N6VWsUC0P",
    "outputId": "6f09e07f-da4c-4b75-c281-114dc7034561"
   },
   "outputs": [
    {
     "data": {
      "text/html": [
       "<div>\n",
       "<style scoped>\n",
       "    .dataframe tbody tr th:only-of-type {\n",
       "        vertical-align: middle;\n",
       "    }\n",
       "\n",
       "    .dataframe tbody tr th {\n",
       "        vertical-align: top;\n",
       "    }\n",
       "\n",
       "    .dataframe thead th {\n",
       "        text-align: right;\n",
       "    }\n",
       "</style>\n",
       "<table border=\"1\" class=\"dataframe\">\n",
       "  <thead>\n",
       "    <tr style=\"text-align: right;\">\n",
       "      <th></th>\n",
       "      <th>id</th>\n",
       "      <th>Class</th>\n",
       "    </tr>\n",
       "  </thead>\n",
       "  <tbody>\n",
       "    <tr>\n",
       "      <th>count</th>\n",
       "      <td>113922.000000</td>\n",
       "      <td>113922.000000</td>\n",
       "    </tr>\n",
       "    <tr>\n",
       "      <th>mean</th>\n",
       "      <td>56960.500000</td>\n",
       "      <td>0.529098</td>\n",
       "    </tr>\n",
       "    <tr>\n",
       "      <th>std</th>\n",
       "      <td>32886.593021</td>\n",
       "      <td>0.065682</td>\n",
       "    </tr>\n",
       "    <tr>\n",
       "      <th>min</th>\n",
       "      <td>0.000000</td>\n",
       "      <td>0.270645</td>\n",
       "    </tr>\n",
       "    <tr>\n",
       "      <th>25%</th>\n",
       "      <td>28480.250000</td>\n",
       "      <td>0.486184</td>\n",
       "    </tr>\n",
       "    <tr>\n",
       "      <th>50%</th>\n",
       "      <td>56960.500000</td>\n",
       "      <td>0.517688</td>\n",
       "    </tr>\n",
       "    <tr>\n",
       "      <th>75%</th>\n",
       "      <td>85440.750000</td>\n",
       "      <td>0.560391</td>\n",
       "    </tr>\n",
       "    <tr>\n",
       "      <th>max</th>\n",
       "      <td>113921.000000</td>\n",
       "      <td>0.999497</td>\n",
       "    </tr>\n",
       "  </tbody>\n",
       "</table>\n",
       "</div>"
      ],
      "text/plain": [
       "                  id          Class\n",
       "count  113922.000000  113922.000000\n",
       "mean    56960.500000       0.529098\n",
       "std     32886.593021       0.065682\n",
       "min         0.000000       0.270645\n",
       "25%     28480.250000       0.486184\n",
       "50%     56960.500000       0.517688\n",
       "75%     85440.750000       0.560391\n",
       "max    113921.000000       0.999497"
      ]
     },
     "execution_count": 91,
     "metadata": {
      "tags": []
     },
     "output_type": "execute_result"
    }
   ],
   "source": [
    "submit.describe()"
   ]
  },
  {
   "cell_type": "code",
   "execution_count": 92,
   "metadata": {
    "executionInfo": {
     "elapsed": 1089,
     "status": "ok",
     "timestamp": 1614077497504,
     "user": {
      "displayName": "Chijioke Ubajaka",
      "photoUrl": "https://lh3.googleusercontent.com/a-/AOh14Gj5pHBGlnn7WeCIFUtYlXYNPi5Bj5gqnnnNUBKSEA=s64",
      "userId": "05624813491044791252"
     },
     "user_tz": -60
    },
    "id": "OO7NiZMxUC0Q"
   },
   "outputs": [],
   "source": [
    "submit.to_csv(\"submission.csv\", index=False)"
   ]
  },
  {
   "cell_type": "code",
   "execution_count": null,
   "metadata": {
    "id": "FyhjZXNyUC0S"
   },
   "outputs": [],
   "source": []
  }
 ],
 "metadata": {
  "colab": {
   "name": "fraud_detection.ipynb",
   "provenance": []
  },
  "kernelspec": {
   "display_name": "Python 3 (ipykernel)",
   "language": "python",
   "name": "python3"
  },
  "language_info": {
   "codemirror_mode": {
    "name": "ipython",
    "version": 3
   },
   "file_extension": ".py",
   "mimetype": "text/x-python",
   "name": "python",
   "nbconvert_exporter": "python",
   "pygments_lexer": "ipython3",
   "version": "3.9.12"
  }
 },
 "nbformat": 4,
 "nbformat_minor": 1
}
